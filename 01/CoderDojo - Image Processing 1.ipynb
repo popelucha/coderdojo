{
 "cells": [
  {
   "cell_type": "markdown",
   "metadata": {},
   "source": [
    "# CoderDojo - Obrázkové Džitsu 1\n",
    "\n",
    "## Zpracování obrazu (image processing)\n",
    "\n",
    "Tyto notebooky ukážou, jak je možné programovat obrázky.\n",
    "\n",
    "# Poděkování\n",
    "\n",
    "Tento notebook je okopírovaný, přeložený a mírně modifikovaný, z notebooku, který je zde:\n",
    "https://github.com/dmateusp/CODERDOJO/blob/master/activities/CoderDojo%20-%20Image%20Processing%20-%20Color%20jutsu.ipynb\n",
    "\n",
    "### This activity was made for CoderDojo Institute of Technology Tallaght, Ireland by mentor Daniel Mateus Pires in an attempt to make educational activities much clearer and interactive using Jupyter's features.\n",
    "\n",
    "This activity and all other activities created at the CoderDojo are free to use/modify by anyone in any context \n",
    "\n"
   ]
  },
  {
   "cell_type": "markdown",
   "metadata": {},
   "source": [
    "# Co je obrázek?\n",
    "\n",
    "V počítači je obrázek vytvořen pomocí malých čtverečků zvaných pixely (zkratka z \"picture element\").\n",
    "\n",
    "Když se setkáš s velikostí obrázku zadanou bez jednotek (např. 800x600) nebo s jednotkou px, znamená to, že obrázek má 800 pixelů na šířku a 600 pixelů.\n",
    "\n",
    "Až příště uvidíš fotku roztomilého štěňátka, představ si místo štěněte všechny ty pixely!"
   ]
  },
  {
   "cell_type": "code",
   "execution_count": null,
   "metadata": {},
   "outputs": [],
   "source": [
    "%matplotlib inline\n",
    "import matplotlib.pyplot as plt\n",
    "import numpy as np\n",
    "from IPython.core.display import display\n",
    "from PIL import Image\n",
    "\n",
    "# Reading the image\n",
    "img=Image.open('../images/puppy.png')\n",
    "\n",
    "display(img)"
   ]
  },
  {
   "cell_type": "markdown",
   "metadata": {},
   "source": [
    "### Kreslíme obrázek v Pythonu\n",
    "Dnešní obrázek bude mnohem menší než štěně. Bude mít jeden pixel."
   ]
  },
  {
   "cell_type": "code",
   "execution_count": null,
   "metadata": {},
   "outputs": [],
   "source": [
    "one_pixel_image = np.array(\n",
    "    [\n",
    "        [\n",
    "            [0,0,0] # Tato trojice čísel je náš pixel\n",
    "        ]\n",
    "    ])\n",
    "plt.imshow(one_pixel_image, interpolation='nearest')\n",
    "plt.show()"
   ]
  },
  {
   "cell_type": "markdown",
   "metadata": {},
   "source": [
    "## Popis obrázku v Pythonu\n",
    "\n",
    "Obrázek vytvoříme pomocí `\n",
    "np.array()\n",
    "`, čímž si nachystáme místo, kam budeme zapisovat jednotlivé pixely.\n",
    "\n",
    "Pojďme se blíž podívat na strukturu, která je v `np.array()`. *Array* znamená *pole*. Obrázek je pomocí pole popsaný asi jako když na čtverečkovaném papíře vybarvíme některé čtverečky.\n",
    "\n",
    "Toto je popis našeho obrázku, obsahuje jen jeden pixel. Pixel je nejmenší čtverec, jaký je počítač schopný zobrazit. Tvar ani velikost pixelu nemůžeme ovlivnit, jen jeho barvu.\n",
    "\n",
    "`\n",
    "[\n",
    "  [\n",
    "    [0,0,0]\n",
    "  ]\n",
    "]\n",
    "`\n",
    "\n",
    "Barva pixelu je předepsaná trojicí čísel mezi 0 a 1, která znamenají podíl **červené**, **zelené** a **modré** barvy (v tomto pořadí). Tento způsob popisu barev se někdy označuje jako model RGB (**R**ed, **G**reen, **B**lue).\n",
    "\n",
    "Náš první obrázek je černý, protože obsahuje 0 červené, 0 zelené a 0 modré."
   ]
  },
  {
   "cell_type": "markdown",
   "metadata": {
    "collapsed": true
   },
   "source": [
    "Obarvíme teď náš pixel na žluto. Žlutá barva je kombinací červené a zelené, takže pixel bude popsán pomocí trojice \\[1., 1., 0\\] (Red, Green, Blue).\n",
    "\n",
    "Pozor! Musíme Pythonu říct, že počítáme s desetinnými čísly. Proto napíšeme vždycky 1.0 nebo zkráceně 1. (jedničku s tečkou).\n",
    "\n",
    "#### Pojďme žlutit!"
   ]
  },
  {
   "cell_type": "code",
   "execution_count": null,
   "metadata": {},
   "outputs": [],
   "source": [
    "yellow_pixel = np.array(\n",
    "    [\n",
    "        [\n",
    "            [RED, GREEN, BLUE] # Vymeň \"RED\" \"GREEN\" \"BLUE\" za čísla mezi 0 a 1\n",
    "        ]\n",
    "    ]\n",
    ")\n",
    "\n",
    "plt.imshow(yellow_pixel)\n",
    "plt.show()"
   ]
  },
  {
   "cell_type": "markdown",
   "metadata": {},
   "source": [
    "#### A teď si můžeme hrát! Zkus měnit čísla v trojici (vždy mezi 0 a 1).\n",
    "\n",
    "Zkus pustit kód pod tímto textem. Můžeš zkusit napsat trojici čísel, hádat, co to bude za barvu a pak teprve pustit kód."
   ]
  },
  {
   "cell_type": "code",
   "execution_count": null,
   "metadata": {
    "scrolled": true
   },
   "outputs": [],
   "source": [
    "mycolor = np.array(\n",
    "    [\n",
    "        [\n",
    "            [0.3,0.7,0.2] # Zkus měnit čísla (vždy mezi 0 a 1)\n",
    "        ]\n",
    "    ]\n",
    ")\n",
    "\n",
    "plt.imshow(mycolor)\n",
    "plt.show()"
   ]
  },
  {
   "cell_type": "markdown",
   "metadata": {},
   "source": [
    "## My chceme větší obrázek!\n",
    "\n",
    "OK, přidáme ještě jeden pixel. Jak bude obrázek vypadat? Tipni si a pak pusť kód."
   ]
  },
  {
   "cell_type": "code",
   "execution_count": null,
   "metadata": {},
   "outputs": [],
   "source": [
    "simple_image = np.array(\n",
    "    [\n",
    "        [\n",
    "            [1.,0,0]\n",
    "        ],\n",
    "        [\n",
    "            [0,1.,0]\n",
    "        ]\n",
    "    ])\n",
    "plt.imshow(simple_image)\n",
    "plt.show()"
   ]
  },
  {
   "cell_type": "markdown",
   "metadata": {},
   "source": [
    "Pořád máme dost jednoduchý obrázek. Obsahuje jen 2 pixely: červený a zelený.\n",
    "\n",
    "Podívejme se blíž na kód obrázku:\n",
    "`\n",
    "simple_image = np.array(\n",
    "[\n",
    "  [\n",
    "    [1.,0,0]\n",
    "  ],\n",
    "  [\n",
    "    [0,1.,0]\n",
    "  ]\n",
    "])`\n",
    "                         \n",
    "Vypadá to složitě, ale je to pole, ve kterém jsou dvě pole a v každém jedna trojice čísel:\n",
    "* [1.,0,0] první pixel\n",
    "* [0,1.,0] druhý pixel\n",
    "\n",
    "Vnější pole jsou řádky obrázku, uvnitř každého řádku je jeden sloupec a v něm jeden pixel. Proto máme dva pixely nad sebou.\n",
    "\n",
    "#### Teď ty. Přidej další pixel (tentokrát modrý)."
   ]
  },
  {
   "cell_type": "code",
   "execution_count": null,
   "metadata": {},
   "outputs": [],
   "source": [
    "simple_image_with_blue = np.array(\n",
    "    [\n",
    "        [\n",
    "            [1.,0,0]\n",
    "        ],\n",
    "        [\n",
    "            [0,1.,0]\n",
    "        ],\n",
    "        [\n",
    "             # tady něco chybí\n",
    "        ]\n",
    "    ]) \n",
    "plt.imshow(simple_image_with_blue)\n",
    "plt.show()"
   ]
  },
  {
   "cell_type": "markdown",
   "metadata": {
    "collapsed": true
   },
   "source": [
    "Wow!\n",
    "\n",
    "#### A teď tři pixely vedle sebe!"
   ]
  },
  {
   "cell_type": "code",
   "execution_count": null,
   "metadata": {},
   "outputs": [],
   "source": [
    "image_horizontal = np.array(\n",
    "    [\n",
    "        [\n",
    "             # Sem přidej kód\n",
    "        ]\n",
    "    ])\n",
    "\n",
    "plt.imshow(image_horizontal)\n",
    "plt.show()"
   ]
  },
  {
   "cell_type": "markdown",
   "metadata": {},
   "source": [
    "## Supervýzva: umíš nakreslit irskou vlajku (zelená, bílá, oranžová)?"
   ]
  },
  {
   "cell_type": "code",
   "execution_count": null,
   "metadata": {},
   "outputs": [],
   "source": [
    "irish_flag = np.array(\n",
    "    [\n",
    "        [\n",
    "             # Sem přidej kód\n",
    "        ]\n",
    "    ])\n",
    "\n",
    "plt.imshow(irish_flag)\n",
    "plt.show()"
   ]
  },
  {
   "cell_type": "markdown",
   "metadata": {},
   "source": [
    "### Gratuluju! Máš splněno první džitsu ze zpracování obrazu. Umíš poskládat pixely do obrázku a umíš jim přiřadit barvy.\n",
    ":)"
   ]
  },
  {
   "cell_type": "markdown",
   "metadata": {},
   "source": [
    "## Supervýzva pro ty, co ještě nemají dost: umíš nakreslit semafor?"
   ]
  },
  {
   "cell_type": "code",
   "execution_count": null,
   "metadata": {},
   "outputs": [],
   "source": []
  }
 ],
 "metadata": {
  "kernelspec": {
   "display_name": "Python 2",
   "language": "python",
   "name": "python2"
  },
  "language_info": {
   "codemirror_mode": {
    "name": "ipython",
    "version": 3
   },
   "file_extension": ".py",
   "mimetype": "text/x-python",
   "name": "python",
   "nbconvert_exporter": "python",
   "pygments_lexer": "ipython3",
   "version": "3.6.8"
  }
 },
 "nbformat": 4,
 "nbformat_minor": 1
}
