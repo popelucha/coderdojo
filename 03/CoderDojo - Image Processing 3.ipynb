{
 "cells": [
  {
   "cell_type": "markdown",
   "metadata": {},
   "source": [
    "# CoderDojo - Obrázkové Džitsu 3\n",
    "\n",
    "## Zpracování obrazu (image processing)\n",
    "\n",
    "Tyto notebooky ukážou, jak je možné programovat obrázky."
   ]
  },
  {
   "cell_type": "markdown",
   "metadata": {},
   "source": [
    "# Zase to štěňátko?\n",
    "\n",
    "No jasně. Dáme ho zase do pořádku."
   ]
  },
  {
   "cell_type": "code",
   "execution_count": null,
   "metadata": {},
   "outputs": [],
   "source": [
    "from IPython.core.display import display\n",
    "from PIL import Image\n",
    "import numpy as np\n",
    "\n",
    "# Reading the image\n",
    "img=Image.open('../images/puppy.png')\n",
    "\n",
    "display(img)"
   ]
  },
  {
   "cell_type": "markdown",
   "metadata": {},
   "source": [
    "### Vylepšené štěňátko zase poskládáme zpět\n",
    "\n",
    "Tentokrát bude výhodné uložit si hranice ořezu do proměnných."
   ]
  },
  {
   "cell_type": "code",
   "execution_count": null,
   "metadata": {},
   "outputs": [],
   "source": [
    "left = 230\n",
    "bottom = 550\n",
    "top = 240\n",
    "right = 530\n",
    "face = img.crop((left, top, right, bottom))\n",
    "display(face)"
   ]
  },
  {
   "cell_type": "markdown",
   "metadata": {},
   "source": [
    "Ano, tohle už známe."
   ]
  },
  {
   "cell_type": "code",
   "execution_count": null,
   "metadata": {},
   "outputs": [],
   "source": [
    "red_face = np.array(face)\n",
    "red_face[...,0]=255\n",
    "display(Image.fromarray(red_face))"
   ]
  },
  {
   "cell_type": "markdown",
   "metadata": {},
   "source": [
    "### Teď vrátíme všechno na svoje místo\n"
   ]
  },
  {
   "cell_type": "code",
   "execution_count": null,
   "metadata": {},
   "outputs": [],
   "source": [
    "offset = (left, top)\n",
    "img2=img.copy()\n",
    "img2.paste(Image.fromarray(red_face), offset)\n",
    "display(img2)"
   ]
  },
  {
   "cell_type": "markdown",
   "metadata": {},
   "source": [
    "## Hranatý obličej? Ne, děkuji\n",
    "Toto už je dost pokročilé. Chceme-li oválný výřez, použijeme takzvanou masku. Nakreslíme elipsu a obrázky odečteme."
   ]
  },
  {
   "cell_type": "code",
   "execution_count": null,
   "metadata": {},
   "outputs": [],
   "source": [
    "left = 180\n",
    "bottom = 600\n",
    "top = 190\n",
    "right = 580\n",
    "face = img.crop((left, top, right, bottom))\n",
    "display(face)"
   ]
  },
  {
   "cell_type": "markdown",
   "metadata": {},
   "source": [
    "Abychom mohli vyříznout pejskův obličej do elipsy, potřebujeme větší obdélníkový výřez. Obličej opět uložíme do proměnné `face`. Nakreslíme elipsu na tzv. masku. Masku přidáme na obrázek a tam, kde není výplň (elipsa je vybarvená na maximum, tj. 255), přidáme průhlednost. Zkus změnit čísla v `size` a `fill` v následujícím kódu."
   ]
  },
  {
   "cell_type": "code",
   "execution_count": null,
   "metadata": {},
   "outputs": [],
   "source": [
    "from PIL import ImageOps, ImageDraw\n",
    "size = (410, 400)\n",
    "mask = Image.new('L', size, 0)\n",
    "draw = ImageDraw.Draw(mask) \n",
    "draw.ellipse((0, 0) + size, fill=255)\n",
    "\n",
    "face2 = ImageOps.fit(face, mask.size)\n",
    "face2.putalpha(mask)\n",
    "display(face2)"
   ]
  },
  {
   "cell_type": "code",
   "execution_count": null,
   "metadata": {},
   "outputs": [],
   "source": [
    "red_face2 = np.array(face2)\n",
    "red_face2[...,0]=255\n",
    "display(Image.fromarray(red_face2))"
   ]
  },
  {
   "cell_type": "code",
   "execution_count": null,
   "metadata": {},
   "outputs": [],
   "source": [
    "offset = (left, top)\n",
    "img3=img.copy()\n",
    "img3.paste(Image.fromarray(red_face2), offset, mask=mask)\n",
    "display(img3)"
   ]
  },
  {
   "cell_type": "markdown",
   "metadata": {},
   "source": [
    "### Gratuluju! Máš splněno třetí džitsu ze zpracování obrazu. Umíš výřez obrázku vložit zpátky. Umíš vytvořit masku s průhledností a přilepit ji zpět na původní obrázek.\n",
    ":)\n",
    "\n",
    "Pokud nemáš dost, změň pejskův červený obličej na jinou barvu."
   ]
  },
  {
   "cell_type": "code",
   "execution_count": null,
   "metadata": {},
   "outputs": [],
   "source": []
  }
 ],
 "metadata": {
  "kernelspec": {
   "display_name": "Python 2",
   "language": "python",
   "name": "python2"
  },
  "language_info": {
   "codemirror_mode": {
    "name": "ipython",
    "version": 3
   },
   "file_extension": ".py",
   "mimetype": "text/x-python",
   "name": "python",
   "nbconvert_exporter": "python",
   "pygments_lexer": "ipython3",
   "version": "3.6.8"
  }
 },
 "nbformat": 4,
 "nbformat_minor": 1
}
