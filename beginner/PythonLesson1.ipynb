{
 "cells": [
  {
   "cell_type": "markdown",
   "metadata": {
    "colab_type": "text",
    "id": "view-in-github"
   },
   "source": [
    "<a href=\"https://colab.research.google.com/github/popelucha/coderdojo/blob/master/PythonLesson1.ipynb\" target=\"_parent\"><img src=\"https://colab.research.google.com/assets/colab-badge.svg\" alt=\"Open In Colab\"/></a>"
   ]
  },
  {
   "cell_type": "markdown",
   "metadata": {
    "colab_type": "text",
    "id": "z0Jdk64oQSRh"
   },
   "source": [
    "# Začni s Pythonem\n",
    "\n",
    "**Python** je programovací jazyk, který se nedá *naklikat*, ale musí se *datlovat*.\n",
    "\n",
    "**Jupyter Notebook** je aplikace, ve které běží Pythonový kód v okně prohlížeče. Okolo kódu můžou být komentáře, které vysvětlují, co se v kódu děje.\n",
    "\n",
    "##  Jak vypadá Jupyter Notebook\n",
    "\n",
    "Jupyter Notebook se skládá z **bloků** dvou druhů:\n",
    "* kód\n",
    "* text\n",
    "\n",
    "Teď čtete textový blok. Kódový blok můžete opakovaně spouštět. Proměnné se přenášejí mezi bloky, takže to není tak, že jeden blok je jeden program.\n",
    "\n",
    "\n",
    "## Plán \n",
    "\n",
    "1. Napsat si Hello world v Pythonu\n",
    "1. Zkusit opakovaně spustit bloky\n",
    "1. Podívat se dovnitř textového bloku\n",
    "1. Naprogramovat Césarovu šifru\n",
    "\n",
    "---\n",
    "Jdem na to\n",
    "---\n",
    "\n"
   ]
  },
  {
   "cell_type": "code",
   "execution_count": 1,
   "metadata": {
    "colab": {
     "base_uri": "https://localhost:8080/",
     "height": 34
    },
    "colab_type": "code",
    "id": "qG02SLugcuY2",
    "outputId": "9d133525-8f02-48f7-9fbc-4cde3dac847e"
   },
   "outputs": [
    {
     "data": {
      "text/plain": [
       "'Ahoj světe'"
      ]
     },
     "execution_count": 1,
     "metadata": {
      "tags": []
     },
     "output_type": "execute_result"
    }
   ],
   "source": []
  },
  {
   "cell_type": "markdown",
   "metadata": {
    "colab_type": "text",
    "id": "2gwKVn3wTvvI"
   },
   "source": [
    "# Ahoj světe\n",
    "\n",
    "\n",
    "1. Vytvoř blok s kódem\n",
    "1. Vytvoř proměnnou `text` s hodnotou \"Ahoj světe\"\n",
    "1. Dej vypsat proměnnou\n",
    "1. Spusť blok s kódem\n",
    "\n",
    "Jak to musí vypadat:\n",
    "* každý příkaz začíná **na novém řádku** úplně od levého kraje (žádné mezery před textem)\n",
    "* Proměnná má jenom jméno, nic dalšího není potřeba.\n",
    "* \"Ahoj světě\" je text, kterému překladač Pythonu nerozumí, takže musí být **v uvozovkách**, aby se překladač nepokoušel textu rozumět.\n",
    "* Vypsat obsah proměnné v Jupyter Notebooku jde tak, že napíšeš jméno proměnné na samostatný řádek.\n",
    "\n"
   ]
  },
  {
   "cell_type": "markdown",
   "metadata": {},
   "source": [
    "<details><summary>Klikni, pokud chceš vidět řešení</summary>\n",
    "<p>\n",
    "\n",
    "```python\n",
    "text = \"Ahoj světe\"\n",
    "text\n",
    "```\n",
    "\n",
    "</p>\n",
    "    Přidej novou buňku kliknutím na <span style=\"font-size: 30px; border: 1px solid gray; padding: 2px 6px 2px 6px\">+</span> a zkopíruj do ní kód.\n",
    "</details>"
   ]
  },
  {
   "cell_type": "markdown",
   "metadata": {
    "colab_type": "text",
    "id": "M4OdSeMrYXQt"
   },
   "source": [
    "## Opakované spouštění bloků\n",
    "\n",
    "Vytvoř dva bloky. Jeden bude počítat, kolikrát jej pustíš, druhý toto číslo bude zobrazovat.\n",
    "\n",
    "### Jak na to?\n",
    "1. Vytvoř blok, ve kterém bude proměnná `runs`. V prvním příkazu se nastaví na 0. V druhém se vypíše.\n",
    "1. Vytvoř nový blok, kde k `runs` přičteš jedničku.\n",
    "1. Vytvoř třetí blok, který jen vypíše hodnotu `runs`.\n",
    "\n",
    "## Opakované spouštění\n",
    "1. Spusť všechny bloky, každý jednou. Kolik bude hodnota  `runs`?\n",
    "1. Spusť druhý blok.\n",
    "1. Jaká bude hodnota `runs`, když spustíš třetí blok?\n",
    "\n"
   ]
  },
  {
   "cell_type": "markdown",
   "metadata": {
    "cellView": "form",
    "colab": {},
    "colab_type": "code",
    "id": "Bv9e7RNLaHk9"
   },
   "source": [
    "### 1. blok\n",
    "<details><summary>Klikni, pokud chceš vidět řešení</summary>\n",
    "<p>\n",
    "\n",
    "```python\n",
    "runs = 0\n",
    "runs\n",
    "```\n",
    "\n",
    "</p>\n",
    "    Přidej novou buňku kliknutím na <span style=\"font-size: 30px; border: 1px solid gray; padding: 2px 6px 2px 6px\">+</span> a zkopíruj do ní kód.\n",
    "</details>"
   ]
  },
  {
   "cell_type": "markdown",
   "metadata": {
    "cellView": "form",
    "colab": {},
    "colab_type": "code",
    "id": "2bBk15b2aNAK"
   },
   "source": [
    "### 2. blok\n",
    "<details><summary>Klikni, pokud chceš vidět řešení</summary>\n",
    "<p>\n",
    "\n",
    "```python\n",
    "runs += 1\n",
    "```\n",
    "\n",
    "</p>\n",
    "    Přidej novou buňku kliknutím na <span style=\"font-size: 30px; border: 1px solid gray; padding: 2px 6px 2px 6px\">+</span> a zkopíruj do ní kód.\n",
    "</details>"
   ]
  },
  {
   "cell_type": "markdown",
   "metadata": {
    "cellView": "form",
    "colab": {},
    "colab_type": "code",
    "id": "o0p8YbTRaPS4"
   },
   "source": [
    "### 3. blok\n",
    "<details><summary>Klikni, pokud chceš vidět řešení</summary>\n",
    "<p>\n",
    "\n",
    "```python\n",
    "print(\"Hodnota runs je\", runs)\n",
    "```\n",
    "\n",
    "</p>\n",
    "    Přidej novou buňku kliknutím na <span style=\"font-size: 30px; border: 1px solid gray; padding: 2px 6px 2px 6px\">+</span> a zkopíruj do ní kód.\n",
    "</details>"
   ]
  },
  {
   "cell_type": "markdown",
   "metadata": {
    "colab_type": "text",
    "id": "dY-_jIwYauV1"
   },
   "source": [
    "# Jak vypadá textový blok?\n",
    "Zjistíš jednoduše tím, že do něj dvakrát klikneš. \n",
    "\n",
    "K formátování textového bloku se nepoužívají ikonky, jako třeba ve Wordu, ale značky přímo v textu. Říká se jim **markdown**. \n",
    "\n",
    "Mřížky se používají pro nadpisy, hvězdičky pro zvýraznění nebo pro seznamy. Je toho víc, detaily tady: \n",
    "https://jupyter-notebook.readthedocs.io/en/stable/examples/Notebook/Working%20With%20Markdown%20Cells.html"
   ]
  },
  {
   "cell_type": "markdown",
   "metadata": {
    "colab_type": "text",
    "id": "9TX9hqUHbkRV"
   },
   "source": [
    "# Hotovo!\n",
    "Teď víme, jak se pracuje s Jupyter Notebookem. Pojďme zkusit notebook s Césarovou šifrou."
   ]
  },
  {
   "cell_type": "markdown",
   "metadata": {
    "colab_type": "text",
    "id": "fnMbdEAic0ER"
   },
   "source": []
  }
 ],
 "metadata": {
  "colab": {
   "include_colab_link": true,
   "name": "PythonLesson1.ipynb",
   "provenance": []
  },
  "kernelspec": {
   "display_name": "Python 3",
   "language": "python",
   "name": "python3"
  },
  "language_info": {
   "codemirror_mode": {
    "name": "ipython",
    "version": 3
   },
   "file_extension": ".py",
   "mimetype": "text/x-python",
   "name": "python",
   "nbconvert_exporter": "python",
   "pygments_lexer": "ipython3",
   "version": "3.7.6"
  }
 },
 "nbformat": 4,
 "nbformat_minor": 1
}
