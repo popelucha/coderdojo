{
  "nbformat": 4,
  "nbformat_minor": 0,
  "metadata": {
    "colab": {
      "name": "PythonLesson2.ipynb",
      "provenance": [],
      "authorship_tag": "ABX9TyPLoy4ehENzpAfVqDE0EmlF",
      "include_colab_link": true
    },
    "kernelspec": {
      "name": "python3",
      "display_name": "Python 3"
    }
  },
  "cells": [
    {
      "cell_type": "markdown",
      "metadata": {
        "id": "view-in-github",
        "colab_type": "text"
      },
      "source": [
        "<a href=\"https://colab.research.google.com/github/popelucha/coderdojo/blob/master/PythonLesson2.ipynb\" target=\"_parent\"><img src=\"https://colab.research.google.com/assets/colab-badge.svg\" alt=\"Open In Colab\"/></a>"
      ]
    },
    {
      "cell_type": "markdown",
      "metadata": {
        "id": "FZ3GVJfac7C9",
        "colab_type": "text"
      },
      "source": [
        "# Césarova šifra\n",
        "<img alt=\"Julius César\" src=\"https://upload.wikimedia.org/wikipedia/commons/2/26/Gaius_Julius_Caesar_%28100-44_BC%29.JPG\" align=\"right\" width=\"300\">\n",
        "\n",
        "Julius César nechtěl, aby jeho zprávy četl kdejaký posel nebo osel. Používal proto šifru, která nese jeho jméno.\n",
        "\n",
        "Na šifrování i dešifrování se používalo šifrovací kolečko. Uděláme software, který bude umět to samé, co tohle kolečko:\n",
        "\n",
        "<img src=\"https://upload.wikimedia.org/wikipedia/commons/b/b5/CipherDisk2000.jpg\" alt=\"šifrovací kolečko\" width=400>\n",
        "\n",
        "Víc informací:\n",
        "\n",
        "https://cs.wikipedia.org/wiki/Caesarova_%C5%A1ifra"
      ]
    },
    {
      "cell_type": "markdown",
      "metadata": {
        "id": "4agjSwl5Jqgt",
        "colab_type": "text"
      },
      "source": [
        "## Jak na šifrování v Pythonu\n",
        "Využijeme toho, že v počítači jsou jednotlivá písmena kódována čísly v tabulce **ASCII**. Prvních 32 znaků jsou různé kontrolní kódy, od 32 do 127 to začíná být zajímavé.\n",
        "\n",
        "![tabulk ASCII](https://upload.wikimedia.org/wikipedia/commons/1/1b/ASCII-Table-wide.svg)\n",
        "\n",
        "Dál využijeme dvou funkcí v Pythonu:\n",
        "* `ord()` - převede znak na ASCII kód\n",
        "* `chr()` - převede ASCII kód na znak"
      ]
    },
    {
      "cell_type": "code",
      "metadata": {
        "id": "-UsO8Ii-dERj",
        "colab_type": "code",
        "cellView": "form",
        "outputId": "fc74ad11-dc54-4197-b4d2-7dfa39a77789",
        "colab": {
          "base_uri": "https://localhost:8080/",
          "height": 408
        }
      },
      "source": [
        "#@title Jak vypsat ASCII kódy pro jednotlivá písmena. Klikni dvakrát, pokud chceš vidět kód.\n",
        "text = \"CHCITENTOTEXTZASIFROVAT\"\n",
        "for ch in text:\n",
        "  code = ord(ch)\n",
        "  print(ch, code)\n"
      ],
      "execution_count": 0,
      "outputs": [
        {
          "output_type": "stream",
          "text": [
            "C 67\n",
            "H 72\n",
            "C 67\n",
            "I 73\n",
            "T 84\n",
            "E 69\n",
            "N 78\n",
            "T 84\n",
            "O 79\n",
            "T 84\n",
            "E 69\n",
            "X 88\n",
            "T 84\n",
            "Z 90\n",
            "A 65\n",
            "S 83\n",
            "I 73\n",
            "F 70\n",
            "R 82\n",
            "O 79\n",
            "V 86\n",
            "A 65\n",
            "T 84\n"
          ],
          "name": "stdout"
        }
      ]
    },
    {
      "cell_type": "code",
      "metadata": {
        "id": "vrQj0dOiLnQv",
        "colab_type": "code",
        "cellView": "form",
        "outputId": "f4eccc70-1fe4-4af2-ccac-59954015fa73",
        "colab": {
          "base_uri": "https://localhost:8080/",
          "height": 153
        }
      },
      "source": [
        "#@title Jak vypsat písmena pro zadané ASCII kódy. Klikni dvakrát, pokud chceš vidět kód.\n",
        "code = [84, 79, 75, 79, 85, 75, 65, 83]\n",
        "for c in code:\n",
        "  print(c, chr(c))"
      ],
      "execution_count": 0,
      "outputs": [
        {
          "output_type": "stream",
          "text": [
            "84 T\n",
            "79 O\n",
            "75 K\n",
            "79 O\n",
            "85 U\n",
            "75 K\n",
            "65 A\n",
            "83 S\n"
          ],
          "name": "stdout"
        }
      ]
    },
    {
      "cell_type": "markdown",
      "metadata": {
        "id": "-AUPLyQnML0j",
        "colab_type": "text"
      },
      "source": [
        "## Jak udělat posun o jedničku?\n",
        "\n",
        "Text zakódovaný pomocí Césarovy šifry nejsou čísla (představte si kód v římských číslicích <img src=\"https://upload.wikimedia.org/wikipedia/commons/6/63/Twemoji2_1f914.svg\" alt=\"thinking...\" width=\"25\">), ale písmena.\n",
        "\n",
        "Použijeme tedy `ord()` i `chr()`, ale mezitím musíme udělat ten **posun**."
      ]
    },
    {
      "cell_type": "code",
      "metadata": {
        "id": "hmGdVr0-NsTH",
        "colab_type": "code",
        "cellView": "form",
        "outputId": "25816f26-569a-405d-ed18-6eb4972ff380",
        "colab": {
          "base_uri": "https://localhost:8080/",
          "height": 323
        }
      },
      "source": [
        "#@title Posun o jedničku. Klikni dvakrát, jestli chceš vidět kód.\n",
        "text = \"TENTOTEXTZASIFRUJU\"\n",
        "for ch in text:\n",
        "  c = ord(ch)\n",
        "  c += 1\n",
        "  print(chr(c))"
      ],
      "execution_count": 0,
      "outputs": [
        {
          "output_type": "stream",
          "text": [
            "U\n",
            "F\n",
            "O\n",
            "U\n",
            "P\n",
            "U\n",
            "F\n",
            "Y\n",
            "U\n",
            "[\n",
            "B\n",
            "T\n",
            "J\n",
            "G\n",
            "S\n",
            "V\n",
            "K\n",
            "V\n"
          ],
          "name": "stdout"
        }
      ]
    },
    {
      "cell_type": "markdown",
      "metadata": {
        "id": "iDyT8Yh9OFVd",
        "colab_type": "text"
      },
      "source": [
        "## Dvě věci, které můžou být problém\n",
        "* Co se stane se **Z**?\n",
        "* Jednička je trapná a každého napadne jako první.\n",
        "\n",
        "Problém číslo jedna můžeme vyřešit takto:\n",
        "* Pokud v proměnné `c`, kam ukládáme ASCII hodnotu znaku, po posunu dostaneme číslo větší než 90 (velké Z), odečteme od toho čísla 26, protože tolik je písmen v abecedě. Pro 91 dostaneme 91-26=65, což je A.\n",
        "* Kdo umí počítat se zbytky po dělení (modulo), může zkusit napsat kód elegantněji pomocí operátoru `%` (čti modulo, googli, co to dělá, zkoušej v notebooku)\n",
        "\n",
        "Problém číslo dvě vyřešíme tím, že náš kód zabalíme do funkce, která bude mít **posun** jako parametr."
      ]
    },
    {
      "cell_type": "code",
      "metadata": {
        "id": "AXaUljZFPPud",
        "colab_type": "code",
        "cellView": "form",
        "outputId": "dabbab0c-a86d-4c11-faa1-e8fa57076b5b",
        "colab": {
          "base_uri": "https://localhost:8080/",
          "height": 85
        }
      },
      "source": [
        "#@title Šifrovací funkce. Klikni dvakrát, pokud chceš vidět kód.\n",
        "def zasifruj(text, posun):\n",
        "  vysledek = ''\n",
        "  for ch in text:\n",
        "    c = ord(ch) + posun\n",
        "    if c > 90:\n",
        "      c = c-26\n",
        "    vysledek = vysledek + chr(c)\n",
        "  return vysledek\n",
        "text = \"TENTOTEXTZASIFRUJU\"\n",
        "print(\"posun o 1\")\n",
        "print(zasifruj(text, 1))\n",
        "print(\"posun o 2\")\n",
        "print(zasifruj(text, 2))"
      ],
      "execution_count": 0,
      "outputs": [
        {
          "output_type": "stream",
          "text": [
            "posun o 1\n",
            "UFOUPUFYUABTJGSVKV\n",
            "posun o 2\n",
            "VGPVQVGZVBCUKHTWLW\n"
          ],
          "name": "stdout"
        }
      ]
    },
    {
      "cell_type": "markdown",
      "metadata": {
        "id": "07cADYCFRQTK",
        "colab_type": "text"
      },
      "source": [
        "#  Jak šifru rozšifrovat?\n",
        "Trošku problém co?\n",
        "\n",
        "Možná ani ne, pokud známe **posun**. Zkuste na to přijít sami. Pokud si chcete ověřit svou odpověď nebo vás nic nenapadne, označte myší následující textový blok."
      ]
    },
    {
      "cell_type": "markdown",
      "metadata": {
        "id": "mO_zfJ6KRho8",
        "colab_type": "text"
      },
      "source": [
        "## Řešení\n",
        "<font color=\"#fff\">Zavoláme funkci `zasifruj()` se zašifrovaným textem záporným parametrem pro posun.</font>"
      ]
    },
    {
      "cell_type": "code",
      "metadata": {
        "id": "Tt6yzFMjSDlw",
        "colab_type": "code",
        "cellView": "form",
        "outputId": "57922a0d-b276-47a7-b2bd-f628224903ce",
        "colab": {
          "base_uri": "https://localhost:8080/",
          "height": 34
        }
      },
      "source": [
        "#@title Klikni dvakrát, pokud chceš vidět kód\n",
        "text = \"VGPVQVGZVBCUKHTWLW\"\n",
        "zasifruj(text, -2)"
      ],
      "execution_count": 0,
      "outputs": [
        {
          "output_type": "execute_result",
          "data": {
            "text/plain": [
              "'TENTOTEXT@ASIFRUJU'"
            ]
          },
          "metadata": {
            "tags": []
          },
          "execution_count": 5
        }
      ]
    },
    {
      "cell_type": "markdown",
      "metadata": {
        "id": "StXypYmcS90p",
        "colab_type": "text"
      },
      "source": [
        "## Drobné úpravy\n",
        "\n",
        "V kódu funkce jsme zařídili, aby odečetl 26, pokud je kód **za** rozsahem tabulky ASCII pro písmena. Protože používáme <font color=\"white\">záporný posun</font> (vy víte co), musíme podobně oštřit i případy, kdy by se kód dostal **před** rozsah tabulky ASCII pro písmena.\n"
      ]
    },
    {
      "cell_type": "code",
      "metadata": {
        "id": "zjnl5tJFS875",
        "colab_type": "code",
        "cellView": "form",
        "outputId": "45ecd8ac-fd08-4452-c92a-30952bc1eca3",
        "colab": {
          "base_uri": "https://localhost:8080/",
          "height": 51
        }
      },
      "source": [
        "#@title Vylepšená šifrovací/dešifrovací funkce. Klikni dvakrát, pokud chceš vidět kód.\n",
        "def zasifruj(text, posun):\n",
        "  vysledek = ''\n",
        "  for ch in text:\n",
        "    c = ord(ch) + posun\n",
        "    if c > 90:\n",
        "      c = c-26\n",
        "    if c < 65:\n",
        "      c = c+26\n",
        "    vysledek = vysledek + chr(c)\n",
        "  return vysledek\n",
        "text = \"TENTOTEXTZASIFRUJU\"\n",
        "zasifrovano = zasifruj(text, 10)\n",
        "print(zasifrovano)\n",
        "rozsifrovano = zasifruj(zasifrovano, -10)\n",
        "print(rozsifrovano)\n"
      ],
      "execution_count": 0,
      "outputs": [
        {
          "output_type": "stream",
          "text": [
            "DOXDYDOHDJKCSPBETE\n",
            "TENTOTEXTZASIFRUJU\n"
          ],
          "name": "stdout"
        }
      ]
    },
    {
      "cell_type": "markdown",
      "metadata": {
        "id": "ZSgkbbzGUH5g",
        "colab_type": "text"
      },
      "source": [
        "# Zašifrujme si chat\n",
        "Můžete si posílat přes chat zašifrované zprávy. Aby to bylo snazší, ještě vylepšíme šifrovací funkci:\n",
        "* necháme ji automaticky odmazat mezery\n",
        "* necháme ji odmazat interpunkci\n",
        "* necháme ji převést text na velká písmena\n",
        "* necháme ji text *odháčkovat*\n"
      ]
    },
    {
      "cell_type": "code",
      "metadata": {
        "id": "RjJrwS2_Ums3",
        "colab_type": "code",
        "cellView": "form",
        "outputId": "263459e3-0327-43a4-d017-5df776320cdc",
        "colab": {
          "base_uri": "https://localhost:8080/",
          "height": 68
        }
      },
      "source": [
        "#@title Ještě vylepšenější šifrovací/dešifrovací funkce. Klikni dvakrát, pokud chceš vidět kód.\n",
        "!pip install text-unidecode\n",
        "from text_unidecode import unidecode\n",
        "import string\n",
        "def zasifruj(text, posun):\n",
        "  text = text.replace(' ', '') # odmaze mezery\n",
        "  text = text.translate(string.punctuation) # odmaze interpunkci\n",
        "  text = text.upper() # prevede na velka pismena\n",
        "  text = unidecode(text) # preveda pismena s hackama a carkama na pismena bez hacku a bez carek\n",
        "  vysledek = ''\n",
        "  for ch in text:\n",
        "    c = ord(ch) + posun\n",
        "    if c > 90:\n",
        "      c = c-26\n",
        "    if c < 65:\n",
        "      c = c+26\n",
        "    vysledek = vysledek + chr(c)\n",
        "  return vysledek\n",
        "text = \"Použiju svoji perfektní šifrovací funkci, aby nikdo nevěděl, co posílám do chatu.\"\n",
        "zasifrovano = zasifruj(text, 10)\n",
        "print(zasifrovano)\n",
        "rozsifrovano = zasifruj(zasifrovano, -10)\n",
        "print(rozsifrovano)"
      ],
      "execution_count": 0,
      "outputs": [
        {
          "output_type": "stream",
          "text": [
            "Requirement already satisfied: text-unidecode in /usr/local/lib/python3.6/dist-packages (1.3)\n",
            "ZYEJSTECFYTSZOBPOUDXSCSPBYFKMSPEXUMSPKLIXSUNYXOFONOVPMYZYCSVKWNYMRKDER\n",
            "POUZIJUSVOJIPERFEKTNISIFROVACIFUNKCIFABYNIKDONEVEDELFCOPOSILAMDOCHATUH\n"
          ],
          "name": "stdout"
        }
      ]
    }
  ]
}