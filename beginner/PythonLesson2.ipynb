{
 "cells": [
  {
   "cell_type": "markdown",
   "metadata": {
    "colab_type": "text",
    "id": "view-in-github"
   },
   "source": [
    "<a href=\"https://colab.research.google.com/github/popelucha/coderdojo/blob/master/PythonLesson2.ipynb\" target=\"_parent\"><img src=\"https://colab.research.google.com/assets/colab-badge.svg\" alt=\"Open In Colab\"/></a>"
   ]
  },
  {
   "cell_type": "markdown",
   "metadata": {
    "colab_type": "text",
    "id": "FZ3GVJfac7C9"
   },
   "source": [
    "# Césarova šifra\n",
    "<img alt=\"Julius César\" src=\"https://upload.wikimedia.org/wikipedia/commons/2/26/Gaius_Julius_Caesar_%28100-44_BC%29.JPG\" align=\"right\" width=\"300\">\n",
    "\n",
    "Julius César nechtěl, aby jeho zprávy četl kdejaký posel nebo osel. Používal proto šifru, která nese jeho jméno.\n",
    "\n",
    "Na šifrování i dešifrování se používalo šifrovací kolečko. Uděláme software, který bude umět to samé, co tohle kolečko:\n",
    "\n",
    "<img src=\"https://upload.wikimedia.org/wikipedia/commons/b/b5/CipherDisk2000.jpg\" alt=\"šifrovací kolečko\" width=400>\n",
    "\n",
    "Víc informací:\n",
    "\n",
    "https://cs.wikipedia.org/wiki/Caesarova_%C5%A1ifra"
   ]
  },
  {
   "cell_type": "markdown",
   "metadata": {
    "colab_type": "text",
    "id": "4agjSwl5Jqgt"
   },
   "source": [
    "## Jak na šifrování v Pythonu\n",
    "Využijeme toho, že v počítači jsou jednotlivá písmena kódována čísly v tabulce **ASCII**. Prvních 32 znaků jsou různé kontrolní kódy, od 32 do 127 to začíná být zajímavé.\n",
    "\n",
    "![tabulk ASCII](https://upload.wikimedia.org/wikipedia/commons/1/1b/ASCII-Table-wide.svg)\n",
    "\n",
    "Dál využijeme dvou funkcí v Pythonu:\n",
    "* `ord()` - převede znak na ASCII kód\n",
    "* `chr()` - převede ASCII kód na znak"
   ]
  },
  {
   "cell_type": "markdown",
   "metadata": {
    "cellView": "form",
    "colab": {
     "base_uri": "https://localhost:8080/",
     "height": 408
    },
    "colab_type": "code",
    "id": "-UsO8Ii-dERj",
    "outputId": "fc74ad11-dc54-4197-b4d2-7dfa39a77789"
   },
   "source": [
    "### Jak vypsat ASCII kódy pro jednotlivá písmena\n",
    "<details><summary>Klikni, pokud chceš vidět řešení</summary>\n",
    "<p>\n",
    "\n",
    "```python\n",
    "text = \"CHCITENTOTEXTZASIFROVAT\"\n",
    "for ch in text:\n",
    "    code = ord(ch)\n",
    "    print(ch, code)\n",
    "```\n",
    "\n",
    "</p>\n",
    "    Přidej novou buňku kliknutím na <span style=\"font-size: 30px; border: 1px solid gray; padding: 2px 6px 2px 6px\">+</span> a zkopíruj do ní kód.\n",
    "</details>\n",
    "\n",
    "<pre>\n",
    "C 67\n",
    "H 72\n",
    "C 67\n",
    "I 73\n",
    "T 84\n",
    "E 69\n",
    "N 78\n",
    "T 84\n",
    "O 79\n",
    "T 84\n",
    "E 69\n",
    "X 88\n",
    "T 84\n",
    "Z 90\n",
    "A 65\n",
    "S 83\n",
    "I 73\n",
    "F 70\n",
    "R 82\n",
    "O 79\n",
    "V 86\n",
    "A 65\n",
    "T 84\n",
    "</pre>"
   ]
  },
  {
   "cell_type": "markdown",
   "metadata": {
    "cellView": "form",
    "colab": {
     "base_uri": "https://localhost:8080/",
     "height": 153
    },
    "colab_type": "code",
    "id": "vrQj0dOiLnQv",
    "outputId": "f4eccc70-1fe4-4af2-ccac-59954015fa73"
   },
   "source": [
    "### Jak vypsat písmena pro zadané ASCII kódy\n",
    "<details><summary>Klikni, pokud chceš vidět řešení</summary>\n",
    "<p>\n",
    "\n",
    "```python\n",
    "code = [84, 79, 75, 79, 85, 75, 65, 83]\n",
    "for c in code:\n",
    "    print(c, chr(c))\n",
    "```\n",
    "\n",
    "</p>\n",
    "    Přidej novou buňku kliknutím na <span style=\"font-size: 30px; border: 1px solid gray; padding: 2px 6px 2px 6px\">+</span> a zkopíruj do ní kód.\n",
    "</details>\n",
    "\n",
    "<pre>\n",
    "84 T\n",
    "79 O\n",
    "75 K\n",
    "79 O\n",
    "85 U\n",
    "75 K\n",
    "65 A\n",
    "83 S\n",
    "</pre>"
   ]
  },
  {
   "cell_type": "markdown",
   "metadata": {
    "colab_type": "text",
    "id": "-AUPLyQnML0j"
   },
   "source": [
    "## Jak udělat posun o jedničku?\n",
    "\n",
    "Text zakódovaný pomocí Césarovy šifry nejsou čísla (představte si kód v římských číslicích <img src=\"https://upload.wikimedia.org/wikipedia/commons/6/63/Twemoji2_1f914.svg\" alt=\"thinking...\" width=\"25\">), ale písmena.\n",
    "\n",
    "Použijeme tedy `ord()` i `chr()`, ale mezitím musíme udělat ten **posun**."
   ]
  },
  {
   "cell_type": "markdown",
   "metadata": {
    "cellView": "form",
    "colab": {
     "base_uri": "https://localhost:8080/",
     "height": 323
    },
    "colab_type": "code",
    "id": "hmGdVr0-NsTH",
    "outputId": "25816f26-569a-405d-ed18-6eb4972ff380"
   },
   "source": [
    "### Posun o jedničku\n",
    "<details><summary>Klikni, pokud chceš vidět řešení</summary>\n",
    "<p>\n",
    "\n",
    "```python\n",
    "text = \"TENTOTEXTZASIFRUJU\"\n",
    "for ch in text:\n",
    "    c = ord(ch)\n",
    "    c += 1\n",
    "    print(chr(c))```\n",
    "</p>\n",
    "    Přidej novou buňku kliknutím na <span style=\"font-size: 30px; border: 1px solid gray; padding: 2px 6px 2px 6px\">+</span> a zkopíruj do ní kód.\n",
    "</details>\n",
    "\n",
    "<pre>\n",
    "U\n",
    "F\n",
    "O\n",
    "U\n",
    "P\n",
    "U\n",
    "F\n",
    "Y\n",
    "U\n",
    "[\n",
    "B\n",
    "T\n",
    "J\n",
    "G\n",
    "S\n",
    "V\n",
    "K\n",
    "V\n",
    "</pre>\n"
   ]
  },
  {
   "cell_type": "markdown",
   "metadata": {
    "colab_type": "text",
    "id": "iDyT8Yh9OFVd"
   },
   "source": [
    "## Dvě věci, které můžou být problém\n",
    "* Co se stane se **Z**?\n",
    "* Jednička je trapná a každého napadne jako první.\n",
    "\n",
    "Problém číslo jedna můžeme vyřešit takto:\n",
    "* Pokud v proměnné `c`, kam ukládáme ASCII hodnotu znaku, po posunu dostaneme číslo větší než 90 (velké Z), odečteme od toho čísla 26, protože tolik je písmen v abecedě. Pro 91 dostaneme 91-26=65, což je A.\n",
    "* Kdo umí počítat se zbytky po dělení (modulo), může zkusit napsat kód elegantněji pomocí operátoru `%` (čti modulo, googli, co to dělá, zkoušej v notebooku)\n",
    "\n",
    "Problém číslo dvě vyřešíme tím, že náš kód zabalíme do funkce, která bude mít **posun** jako parametr."
   ]
  },
  {
   "cell_type": "markdown",
   "metadata": {
    "cellView": "form",
    "colab": {
     "base_uri": "https://localhost:8080/",
     "height": 85
    },
    "colab_type": "code",
    "id": "AXaUljZFPPud",
    "outputId": "dabbab0c-a86d-4c11-faa1-e8fa57076b5b"
   },
   "source": [
    "### Šifrovací funkce\n",
    "<details><summary>Klikni, pokud chceš vidět řešení</summary>\n",
    "<p>\n",
    "\n",
    "```python\n",
    "def zasifruj(text, posun):\n",
    "    vysledek = ''\n",
    "    for ch in text:\n",
    "        c = ord(ch) + posun\n",
    "        if c > 90:\n",
    "            c = c-26\n",
    "        vysledek = vysledek + chr(c)\n",
    "    return vysledek\n",
    "text = \"TENTOTEXTZASIFRUJU\"\n",
    "print(\"posun o 1\")\n",
    "print(zasifruj(text, 1))\n",
    "print(\"posun o 2\")\n",
    "print(zasifruj(text, 2))\n",
    "```\n",
    "</p>\n",
    "    Přidej novou buňku kliknutím na <span style=\"font-size: 30px; border: 1px solid gray; padding: 2px 6px 2px 6px\">+</span> a zkopíruj do ní kód.\n",
    "</details>\n",
    "\n",
    "<pre>\n",
    "posun o 1\n",
    "UFOUPUFYUABTJGSVKV\n",
    "posun o 2\n",
    "VGPVQVGZVBCUKHTWLW\n",
    "</pre>"
   ]
  },
  {
   "cell_type": "markdown",
   "metadata": {
    "colab_type": "text",
    "id": "07cADYCFRQTK"
   },
   "source": [
    "#  Jak šifru rozšifrovat?\n",
    "Trošku problém co?\n",
    "\n",
    "Možná ani ne, pokud známe **posun**. Zkuste na to přijít sami. Pokud si chcete ověřit svou odpověď nebo vás nic nenapadne, označte myší následující textový blok."
   ]
  },
  {
   "cell_type": "markdown",
   "metadata": {
    "colab_type": "text",
    "id": "mO_zfJ6KRho8"
   },
   "source": [
    "## Řešení\n",
    "<font color=\"#fff\">Zavoláme funkci <pre>zasifruj()</pre> se zašifrovaným textem záporným parametrem pro posun.</font>"
   ]
  },
  {
   "cell_type": "markdown",
   "metadata": {
    "cellView": "form",
    "colab": {
     "base_uri": "https://localhost:8080/",
     "height": 34
    },
    "colab_type": "code",
    "id": "Tt6yzFMjSDlw",
    "outputId": "57922a0d-b276-47a7-b2bd-f628224903ce"
   },
   "source": [
    "<details><summary>Klikni, pokud chceš vidět řešení</summary>\n",
    "<p>\n",
    "\n",
    "```python\n",
    "text = \"VGPVQVGZVBCUKHTWLW\"\n",
    "zasifruj(text, -2)\n",
    "```\n",
    "</p>\n",
    "    Přidej novou buňku kliknutím na <span style=\"font-size: 30px; border: 1px solid gray; padding: 2px 6px 2px 6px\">+</span> a zkopíruj do ní kód.\n",
    "</details>\n",
    "\n",
    "<pre>\n",
    "'TENTOTEXT@ASIFRUJU'\n",
    "</pre>"
   ]
  },
  {
   "cell_type": "markdown",
   "metadata": {
    "colab_type": "text",
    "id": "StXypYmcS90p"
   },
   "source": [
    "## Drobné úpravy\n",
    "\n",
    "V kódu funkce jsme zařídili, aby odečetl 26, pokud je kód **za** rozsahem tabulky ASCII pro písmena. Protože používáme <font color=\"white\">záporný posun</font> (vy víte co), musíme podobně oštřit i případy, kdy by se kód dostal **před** rozsah tabulky ASCII pro písmena.\n"
   ]
  },
  {
   "cell_type": "markdown",
   "metadata": {
    "cellView": "form",
    "colab": {
     "base_uri": "https://localhost:8080/",
     "height": 51
    },
    "colab_type": "code",
    "id": "zjnl5tJFS875",
    "outputId": "45ecd8ac-fd08-4452-c92a-30952bc1eca3"
   },
   "source": [
    "### Vylepšená šifrovací/dešifrovací funkce\n",
    "<details><summary>Klikni, pokud chceš vidět řešení</summary>\n",
    "<p>\n",
    "\n",
    "```python\n",
    "def zasifruj(text, posun):\n",
    "    vysledek = ''\n",
    "    for ch in text:\n",
    "        c = ord(ch) + posun\n",
    "        if c > 90:\n",
    "            c = c-26\n",
    "        if c < 65:\n",
    "            c = c+26\n",
    "        vysledek = vysledek + chr(c)\n",
    "    return vysledek\n",
    "text = \"TENTOTEXTZASIFRUJU\"\n",
    "zasifrovano = zasifruj(text, 10)\n",
    "print(zasifrovano)\n",
    "rozsifrovano = zasifruj(zasifrovano, -10)\n",
    "print(rozsifrovano)\n",
    "\n",
    "```\n",
    "</p>\n",
    "    Přidej novou buňku kliknutím na <span style=\"font-size: 30px; border: 1px solid gray; padding: 2px 6px 2px 6px\">+</span> a zkopíruj do ní kód.\n",
    "</details>\n",
    "\n",
    "<pre>\n",
    "DOXDYDOHDJKCSPBETE\n",
    "TENTOTEXTZASIFRUJU\n",
    "</pre>"
   ]
  },
  {
   "cell_type": "markdown",
   "metadata": {
    "colab_type": "text",
    "id": "ZSgkbbzGUH5g"
   },
   "source": [
    "# Zašifrujme si chat\n",
    "Můžete si posílat přes chat zašifrované zprávy. Aby to bylo snazší, ještě vylepšíme šifrovací funkci:\n",
    "* necháme ji automaticky odmazat mezery\n",
    "* necháme ji odmazat interpunkci\n",
    "* necháme ji převést text na velká písmena\n",
    "* necháme ji text *odháčkovat*\n"
   ]
  },
  {
   "cell_type": "code",
   "execution_count": 3,
   "metadata": {},
   "outputs": [
    {
     "name": "stdout",
     "output_type": "stream",
     "text": [
      "Requirement already satisfied: text-unidecode in c:\\users\\cz010309\\anaconda3\\lib\\site-packages (1.3)\n"
     ]
    }
   ],
   "source": [
    "!pip install text-unidecode"
   ]
  },
  {
   "cell_type": "markdown",
   "metadata": {
    "cellView": "form",
    "colab": {
     "base_uri": "https://localhost:8080/",
     "height": 68
    },
    "colab_type": "code",
    "id": "RjJrwS2_Ums3",
    "outputId": "263459e3-0327-43a4-d017-5df776320cdc"
   },
   "source": [
    "###  Ještě vylepšenější šifrovací/dešifrovací funkce.\n",
    "<details><summary>Klikni, pokud chceš vidět řešení</summary>\n",
    "<p>\n",
    "\n",
    "```python\n",
    "from text_unidecode import unidecode\n",
    "import string\n",
    "def zasifruj(text, posun):\n",
    "    text = text.replace(' ', '') # odmaze mezery\n",
    "    text = text.translate(string.punctuation) # odmaze interpunkci\n",
    "    text = text.upper() # prevede na velka pismena\n",
    "    text = unidecode(text) # preveda pismena s hackama a carkama na pismena bez hacku a bez carek\n",
    "    vysledek = ''\n",
    "    for ch in text:\n",
    "        c = ord(ch) + posun\n",
    "        if c > 90:\n",
    "            c = c-26\n",
    "        if c < 65:\n",
    "            c = c+26\n",
    "        vysledek = vysledek + chr(c)\n",
    "    return vysledek\n",
    "text = \"Použiju svoji perfektní šifrovací funkci, aby nikdo nevěděl, co posílám do chatu.\"\n",
    "zasifrovano = zasifruj(text, 10)\n",
    "print(zasifrovano)\n",
    "rozsifrovano = zasifruj(zasifrovano, -10)\n",
    "print(rozsifrovano)\n",
    "```\n",
    "</p>\n",
    "    Přidej novou buňku kliknutím na <span style=\"font-size: 30px; border: 1px solid gray; padding: 2px 6px 2px 6px\">+</span> a zkopíruj do ní kód.\n",
    "</details>\n",
    "\n",
    "<pre>\n",
    "ZYEJSTECFYTSZOBPOUDXSCSPBYFKMSPEXUMSPKLIXSUNYXOFONOVPMYZYCSVKWNYMRKDER\n",
    "POUZIJUSVOJIPERFEKTNISIFROVACIFUNKCIFABYNIKDONEVEDELFCOPOSILAMDOCHATUH\n",
    "</pre>"
   ]
  },
  {
   "cell_type": "markdown",
   "metadata": {},
   "source": [
    "### Zajímavost\n",
    "Césarova šifra používá k šifrování i dešifrování tu samou funkci (jen s jiným parametrem), proto se jí říká _symetrická_. Šifrování tak, jak se používá třeba v internetovém bankovnictví, symetrické není, aby se šifra nedala rozlousknout."
   ]
  },
  {
   "cell_type": "code",
   "execution_count": null,
   "metadata": {},
   "outputs": [],
   "source": []
  },
  {
   "cell_type": "code",
   "execution_count": null,
   "metadata": {},
   "outputs": [],
   "source": []
  }
 ],
 "metadata": {
  "colab": {
   "authorship_tag": "ABX9TyPLoy4ehENzpAfVqDE0EmlF",
   "include_colab_link": true,
   "name": "PythonLesson2.ipynb",
   "provenance": []
  },
  "kernelspec": {
   "display_name": "Python 3",
   "language": "python",
   "name": "python3"
  },
  "language_info": {
   "codemirror_mode": {
    "name": "ipython",
    "version": 3
   },
   "file_extension": ".py",
   "mimetype": "text/x-python",
   "name": "python",
   "nbconvert_exporter": "python",
   "pygments_lexer": "ipython3",
   "version": "3.7.6"
  }
 },
 "nbformat": 4,
 "nbformat_minor": 1
}
