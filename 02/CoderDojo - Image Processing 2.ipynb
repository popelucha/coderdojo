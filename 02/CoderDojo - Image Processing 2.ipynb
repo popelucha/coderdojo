{
 "cells": [
  {
   "cell_type": "markdown",
   "metadata": {},
   "source": [
    "# CoderDojo - Obrázkové Džitsu 2\n",
    "\n",
    "## Zpracování obrazu (image processing)\n",
    "\n",
    "Tyto notebooky ukážou, jak je možné programovat obrázky."
   ]
  },
  {
   "cell_type": "markdown",
   "metadata": {},
   "source": [
    "# Kam se podělo štěňátko?\n",
    "\n",
    "Neboj. Zobrazíme štěňátko (stejně jako v minulém notebooku)..."
   ]
  },
  {
   "cell_type": "code",
   "execution_count": null,
   "metadata": {},
   "outputs": [],
   "source": [
    "import numpy as np\n",
    "from IPython.core.display import display\n",
    "from PIL import Image\n",
    "\n",
    "# Reading the image\n",
    "img=Image.open('../images/puppy.png')\n",
    "\n",
    "display(img)"
   ]
  },
  {
   "cell_type": "markdown",
   "metadata": {},
   "source": [
    "### A trochu ho vylepšíme! Ale všechno popořadě\n",
    "\n",
    "Velikost obrázku zjistíme pomocí atributu `img.size`:"
   ]
  },
  {
   "cell_type": "code",
   "execution_count": null,
   "metadata": {},
   "outputs": [],
   "source": [
    "img.size"
   ]
  },
  {
   "cell_type": "markdown",
   "metadata": {},
   "source": [
    "První číslo je šířka, druhé výška. Odhadneš, jakými čísly je ohraničený pejskův obličej? Zkus změnit čísla u proměnných `top`, `left`, `bottom`, `right`. Metoda `crop()` udělá výřez."
   ]
  },
  {
   "cell_type": "code",
   "execution_count": null,
   "metadata": {},
   "outputs": [],
   "source": [
    "left = 230\n",
    "bottom = 550\n",
    "top = 240\n",
    "right = 530\n",
    "face = img.crop((left, top, right, bottom))\n",
    "display(face)"
   ]
  },
  {
   "cell_type": "markdown",
   "metadata": {},
   "source": [
    "Minulé džitsu se týkalo barev. Tohle štěňátko je ale smutně černobílé.\n",
    "### Nabarvíme štěňátko na červeno!\n",
    "\n",
    "Šedou barvu dostaneme, když jsou hodnoty pixelu všechny stejné (když jsou všechny minimální, dostaneme černou, když jsou všechny maximální, dostaneme bílou). Všechny pixely v obrázku tedy mají trojici stejných čísel. Z minulého džitsu víme, že první v trojici je červená, nastavíme tedy první člen na maximum a ostatní necháme.\n",
    "\n",
    "Pozor, minule jsme pracovali s `matplotlib`, kde se hodnoty RGB nastavují jako čísla od 0 do 1. Tentokrát ale používáme (pohodlnější) modul `pillow`, kde se nastavují hodnoty od 0 do 255, to znamená, že každý pixel může mít 256 různých hodnot na každém barevném kanále."
   ]
  },
  {
   "cell_type": "code",
   "execution_count": null,
   "metadata": {},
   "outputs": [],
   "source": [
    "red_face = np.array(face)\n",
    "red_face[...,0]=255\n",
    "display(Image.fromarray(red_face))"
   ]
  },
  {
   "cell_type": "markdown",
   "metadata": {},
   "source": [
    "### Chudák pes!\n",
    "Zkus ještě jiné barvy. Toho dosáhneš změnou nuly v tomto řádku\n",
    "        `red_face[...,0] = 255`\n",
    "na jiné číslo. Protože je barva popsána třemi čísly (R, G a B), můžeš místo nuly dosadit jedničku nebo dvojku. \n",
    "\n",
    "Hodnotám pod čísly 0, 1 a 2 se také někdy říká barevné kanály (color channels), takže máme červený kanál, zelený a modrý.\n",
    "\n",
    "Když do kódu napíšeš dva řádky\n",
    "        `red_face[...,0] = 255`\n",
    "        `red_face[...,1] = 255`,\n",
    "změníš dvě barvy ze tří.        \n",
    "\n",
    "Zkus všechny kombinace (0 a 1, 0 a 2, 1 a 2).<br>\n",
    "Co když změníš všechny?<br>"
   ]
  },
  {
   "cell_type": "code",
   "execution_count": null,
   "metadata": {},
   "outputs": [],
   "source": [
    "red_face = np.array(face)\n",
    "red_face[...,0]=255\n",
    "red_face[...,1]=255\n",
    "display(Image.fromarray(red_face))"
   ]
  },
  {
   "cell_type": "markdown",
   "metadata": {},
   "source": [
    "Jak to funguje? Pejsek se přebarví, pokud změníme jeden nebo dva barevné kanály (např. hodnoty pro R a B) na určité pevně dané číslo. Pokud takto změníme všechny tři kanály dostaneme barevný čtverec. Informace o tom, že na obrázku byl pejsek, se ztratí.\n",
    "\n",
    "\n",
    "Výzva: co se stane, když místo 255 dáš jiné číslo?"
   ]
  },
  {
   "cell_type": "markdown",
   "metadata": {},
   "source": [
    "### Gratuluju! Máš splněno druhé džitsu ze zpracování obrazu. Umíš vyříznout pixely z obrázku a měnit jejich barevné kanály.\n",
    ":)"
   ]
  }
 ],
 "metadata": {
  "kernelspec": {
   "display_name": "Python 2",
   "language": "python",
   "name": "python2"
  },
  "language_info": {
   "codemirror_mode": {
    "name": "ipython",
    "version": 3
   },
   "file_extension": ".py",
   "mimetype": "text/x-python",
   "name": "python",
   "nbconvert_exporter": "python",
   "pygments_lexer": "ipython3",
   "version": "3.6.8"
  }
 },
 "nbformat": 4,
 "nbformat_minor": 1
}
