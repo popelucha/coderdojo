{
 "cells": [
  {
   "cell_type": "markdown",
   "metadata": {},
   "source": [
    "# CoderDojo - Obrázkové Džitsu 2\n",
    "\n",
    "## Zpracování obrazu (image processing)\n",
    "\n",
    "Tyto notebooky ukážou, jak je možné programovat obrázky."
   ]
  },
  {
   "cell_type": "markdown",
   "metadata": {},
   "source": [
    "# Kam se podělo štěňátko?\n",
    "\n",
    "Neboj. Zobrazíme štěňátko (stejně jako v minulém notebooku)..."
   ]
  },
  {
   "cell_type": "code",
   "execution_count": null,
   "metadata": {},
   "outputs": [],
   "source": [
    "%matplotlib inline\n",
    "\n",
    "# importing libraries\n",
    "import matplotlib.pyplot as plt\n",
    "import matplotlib.image as mpimg\n",
    "import numpy as np\n",
    "from PIL import Image\n",
    "\n",
    "# Reading the image\n",
    "img=mpimg.imread('../images/puppy.png')\n",
    "\n",
    "# Showing the image\n",
    "plt.figure(figsize=(18,16))\n",
    "plt.imshow(img)"
   ]
  },
  {
   "cell_type": "markdown",
   "metadata": {},
   "source": [
    "### A trochu ho vylepšíme! Ale všechno popořadě\n",
    "\n",
    "Podívej se na malá čísla okolo obrázku štěněte. Můžeš odhadnout, které pixely tvoří štěněcí obličej?"
   ]
  },
  {
   "cell_type": "code",
   "execution_count": null,
   "metadata": {},
   "outputs": [],
   "source": [
    "# napiš čísla, která jsou na hranici psího obličeje, první dvě jsou výška, druhé dvě určují šířku\n",
    "# zkus čísla měnit a nech znovu vykreslit obrázek\n",
    "face = img[300:550,230:530]\n",
    "\n",
    "plt.imshow(face, interpolation='nearest')\n",
    "plt.show()\n",
    "face.shape"
   ]
  },
  {
   "cell_type": "markdown",
   "metadata": {},
   "source": [
    "Minulé džitsu se týkalo barev. Tohle štěňátko je ale smutně černobílé.\n",
    "### Nabarvíme štěňátko na červeno!\n",
    "\n",
    "Šedou barvu dostaneme, když jsou hodnoty pixelu všechny stejné (když jsou všechny 0, dostaneme černou, když jsou všechny 1, dostaneme bílou). Všechny pixely v obrázku tedy mají trojici stejných čísel. Z minulého džitsu víme, že první v trojici je červená, nastavíme tedy první člen na 1 a ostatní necháme.\n",
    "\n",
    "Takto musíme projít všechny pixely obrázku."
   ]
  },
  {
   "cell_type": "code",
   "execution_count": null,
   "metadata": {},
   "outputs": [],
   "source": [
    "red_face = np.copy(face) # zkopírujeme face do nové proměnné red_face\n",
    "for row in range(0, red_face.shape[0]):\n",
    "    for column in range(0, red_face.shape[1]):\n",
    "        red_face[row][column][0] = 1. # nezapomeň, že první v trojici je vlastně nultá položka\n",
    "                                      # v počítačových programech se všechno počítá od nuly\n",
    "plt.imshow(red_face, interpolation='nearest')\n",
    "plt.show()"
   ]
  },
  {
   "cell_type": "markdown",
   "metadata": {},
   "source": [
    "### Chudák pes!\n",
    "Zkus ještě jiné barvy. Toho dosáhneš změnou nuly v tomto řádku\n",
    "        `red_face[row][column][0] = 1.`\n",
    "na jiné číslo. Protože je barva popsána třemi čísly (R, G a B), můžeš místo nuly dosadit jedničku nebo dvojku. \n",
    "\n",
    "Hodnotám pod čísly 0, 1 a 2 se také někdy říká barevné kanály (color channels), takže máme červený kanál, zelený a modrý.\n",
    "\n",
    "Co když změníš dvě barvy ze tří?\n",
    "Co když změníš všechny?\n",
    "Co když červenou barvu pixelu změníš na 0 místo na 1.0?"
   ]
  },
  {
   "cell_type": "code",
   "execution_count": null,
   "metadata": {},
   "outputs": [],
   "source": [
    "psycho_face = np.copy(face) \n",
    "for row in range(0, psycho_face.shape[0]):\n",
    "    for column in range(0, psycho_face.shape[1]):\n",
    "        psycho_face[row][column][RGB] = NUMBER # změň RGB na čísla 0, 1, nebo 2 a NUMBER na číslo mezi 0 a 1.0\n",
    "        psycho_face[row][column][RGB] = NUMBER # změň RGB na čísla 0, 1, nebo 2 a NUMBER na číslo mezi 0 a 1.0\n",
    "plt.imshow(psycho_face, interpolation='nearest')\n",
    "plt.show()"
   ]
  },
  {
   "cell_type": "markdown",
   "metadata": {},
   "source": [
    "Jak to funguje? Pejsek se přebarví, pokud změníme jeden nebo dva barevné kanály (např. hodnoty pro R a B) na určité pevně dané číslo. Pokud takto změníme všechny tři kanály dostaneme barevný čtverec. Informace o tom, že na obrázku byl pejsek, se ztratí."
   ]
  },
  {
   "cell_type": "markdown",
   "metadata": {},
   "source": [
    "## Supervýzva: umíš nakreslit pejska, co hraje všemi barvami?"
   ]
  },
  {
   "cell_type": "code",
   "execution_count": null,
   "metadata": {},
   "outputs": [],
   "source": [
    "colorful_face = np.copy(face) \n",
    "for row in range(0, colorful_face.shape[0]):\n",
    "    for column in range(0, colorful_face.shape[1]):\n",
    "        channel1 = round(row/30.) % 3    # do proměnných channel1 a channel2 uložíme 0, 1, nebo 2\n",
    "        channel2 = round(column/30.) % 3 # podle toho, jaký je výsledek zaokrouhlení čísla řady\n",
    "                                         # a čísla sloupce po dělení 30. Abychom dostali \n",
    "                                         # vždycky jedno z čísel 0, 1, 2, spočítáme zbytek po dělení 3.\n",
    "        # doplň řádek, které nastaví barevný kanál channel1 v řádku a sloupci na číslo mezi 0 a 1\n",
    "        # to samé udělej pro channel2\n",
    "plt.imshow(colorful_face, interpolation='nearest')\n",
    "plt.show()"
   ]
  },
  {
   "cell_type": "markdown",
   "metadata": {},
   "source": [
    "### Gratuluju! Máš splněno druhé džitsu ze zpracování obrazu. Umíš vyříznout pixely z obrázku a měnit jejich barevné kanály.\n",
    ":)"
   ]
  },
  {
   "cell_type": "markdown",
   "metadata": {},
   "source": [
    "Pokud ještě nemáš dost, můžeš změnit v předchozím kusu kódu číslo 30 na něco jiného. Můžeš také změnit jen jeden barevný kanál naráz. Pejsek pak nebude kostkovaný, ale ...?"
   ]
  }
 ],
 "metadata": {
  "kernelspec": {
   "display_name": "Python 2",
   "language": "python",
   "name": "python2"
  },
  "language_info": {
   "codemirror_mode": {
    "name": "ipython",
    "version": 3
   },
   "file_extension": ".py",
   "mimetype": "text/x-python",
   "name": "python",
   "nbconvert_exporter": "python",
   "pygments_lexer": "ipython3",
   "version": "3.6.8"
  }
 },
 "nbformat": 4,
 "nbformat_minor": 1
}
