{
  "nbformat": 4,
  "nbformat_minor": 0,
  "metadata": {
    "colab": {
      "name": "PythonLesson1.ipynb",
      "provenance": [],
      "include_colab_link": true
    },
    "kernelspec": {
      "name": "python3",
      "display_name": "Python 3"
    }
  },
  "cells": [
    {
      "cell_type": "markdown",
      "metadata": {
        "id": "view-in-github",
        "colab_type": "text"
      },
      "source": [
        "<a href=\"https://colab.research.google.com/github/popelucha/coderdojo/blob/master/PythonLesson1.ipynb\" target=\"_parent\"><img src=\"https://colab.research.google.com/assets/colab-badge.svg\" alt=\"Open In Colab\"/></a>"
      ]
    },
    {
      "cell_type": "markdown",
      "metadata": {
        "id": "z0Jdk64oQSRh",
        "colab_type": "text"
      },
      "source": [
        "# Začni s Pythonem\n",
        "\n",
        "**Python** je programovací jazyk, který se nedá *naklikat*, ale musí se *datlovat*.\n",
        "\n",
        "**Jupyter Notebook** je aplikace, ve které běží Pythonový kód v okně prohlížeče. Okolo kódu můžou být komentáře, které vysvětlují, co se v kódu děje.\n",
        "\n",
        "##  Jak vypadá Jupyter Notebook\n",
        "\n",
        "Jupyter Notebook se skládá z **bloků** dvou druhů:\n",
        "* kód\n",
        "* text\n",
        "\n",
        "Teď čtete textový blok. Kódový blok můžete opakovaně spouštět. Proměnné se přenášejí mezi bloky, takže to není tak, že jeden blok je jeden program.\n",
        "\n",
        "## Google Colab\n",
        "\n",
        "V tomto kole si ukážeme, jak se pracuje s Jupyter Notebookem. Aby to bylo jednodušší a nemuseli jste nic instalovat, použijeme počítače Googlu a jejich instalaci Pythonu a Jupyter Notebooku. Ta se jmenuje **Colab**.\n",
        "\n",
        "## Plán \n",
        "\n",
        "1. Napsat si Hello world v Pythonu\n",
        "1. Zkusit opakovaně spustit bloky\n",
        "1. Podívat se dovnitř textového bloku\n",
        "1. Naprogramovat Césarovu šifru\n",
        "\n",
        "---\n",
        "Jdem na to\n",
        "---\n",
        "\n"
      ]
    },
    {
      "cell_type": "code",
      "metadata": {
        "id": "qG02SLugcuY2",
        "colab_type": "code",
        "colab": {
          "base_uri": "https://localhost:8080/",
          "height": 34
        },
        "outputId": "9d133525-8f02-48f7-9fbc-4cde3dac847e"
      },
      "source": [
        ""
      ],
      "execution_count": 1,
      "outputs": [
        {
          "output_type": "execute_result",
          "data": {
            "text/plain": [
              "'Ahoj světe'"
            ]
          },
          "metadata": {
            "tags": []
          },
          "execution_count": 1
        }
      ]
    },
    {
      "cell_type": "markdown",
      "metadata": {
        "colab_type": "text",
        "id": "2gwKVn3wTvvI"
      },
      "source": [
        "# Ahoj světe\n",
        "\n",
        "![Klikni na +Code](https://drive.google.com/uc?id=1cHP5tpCDM5R4lvNfyv8eopSyoxlNLnSA)\n",
        "\n",
        "1. Vytvoř blok s kódem\n",
        "1. Vytvoř proměnnou `text` s hodnotou \"Ahoj světe\"\n",
        "1. Dej vypsat proměnnou\n",
        "1. Spusť blok s kódem\n",
        "\n",
        "![Klikni na ikonku Play](https://drive.google.com/uc?id=1xR2G5FeaBQwS2odZknS_We5EJeKHWjAo)\n",
        "\n",
        "Jak to musí vypadat:\n",
        "* každý příkaz začíná **na novém řádku** úplně od levého kraje (žádné mezery před textem)\n",
        "* Proměnná má jenom jméno, nic dalšího není potřeba.\n",
        "* \"Ahoj světě\" je text, kterému překladač Pythonu nerozumí, takže musí být **v uvozovkách**, aby se překladač nepokoušel textu rozumět.\n",
        "* Vypsat obsah proměnné v Jupyter Notebooku jde tak, že napíšeš jméno proměnné na samostatný řádek.\n",
        "\n"
      ]
    },
    {
      "cell_type": "code",
      "metadata": {
        "id": "sBWohT0DWCbY",
        "colab_type": "code",
        "cellView": "form",
        "colab": {}
      },
      "source": [
        "#@title Klikni dvakrát, pokud chceš vidět řešení\n",
        "text = \"Ahoj světe\"\n",
        "text"
      ],
      "execution_count": 0,
      "outputs": []
    },
    {
      "cell_type": "markdown",
      "metadata": {
        "id": "M4OdSeMrYXQt",
        "colab_type": "text"
      },
      "source": [
        "## Opakované spouštění bloků\n",
        "\n",
        "Vytvoř dva bloky. Jeden bude počítat, kolikrát jej pustíš, druhý toto číslo bude zobrazovat.\n",
        "\n",
        "### Jak na to?\n",
        "1. Vytvoř blok, ve kterém bude proměnná `runs`. V prvním příkazu se nastaví na 0. V druhém se vypíše.\n",
        "1. Vytvoř nový blok, kde k `runs` přičteš jedničku.\n",
        "1. Vytvoř třetí blok, který jen vypíše hodnotu `runs`.\n",
        "\n",
        "## Opakované spouštění\n",
        "1. Spusť všechny bloky, každý jednou. Kolik bude hodnota  `runs`?\n",
        "1. Spusť druhý blok.\n",
        "1. Jaká bude hodnota `runs`, když spustíš třetí blok?\n",
        "\n"
      ]
    },
    {
      "cell_type": "code",
      "metadata": {
        "id": "Bv9e7RNLaHk9",
        "colab_type": "code",
        "cellView": "form",
        "colab": {}
      },
      "source": [
        "#@title Klikni dvakrát, pokud chceš vidět řešení\n",
        "runs = 0\n",
        "runs"
      ],
      "execution_count": 0,
      "outputs": []
    },
    {
      "cell_type": "code",
      "metadata": {
        "id": "2bBk15b2aNAK",
        "colab_type": "code",
        "cellView": "form",
        "colab": {}
      },
      "source": [
        "#@title Klikni dvakrát, pokud chceš vidět řešení\n",
        "runs += 1"
      ],
      "execution_count": 0,
      "outputs": []
    },
    {
      "cell_type": "code",
      "metadata": {
        "id": "o0p8YbTRaPS4",
        "colab_type": "code",
        "cellView": "form",
        "colab": {}
      },
      "source": [
        "#@title Klikni dvakrát, pokud chceš vidět řešení\n",
        "print(\"Hodnota runs je\", runs)"
      ],
      "execution_count": 0,
      "outputs": []
    },
    {
      "cell_type": "markdown",
      "metadata": {
        "id": "dY-_jIwYauV1",
        "colab_type": "text"
      },
      "source": [
        "# Jak vypadá textový blok?\n",
        "Zjistíš jednoduše tím, že do něj dvakrát klikneš. \n",
        "\n",
        "K formátování textového bloku se nepoužívají ikonky, jako třeba ve Wordu, ale značky přímo v textu. Říká se jim **markdown**. Ikonky v editoru přidávají markdown, aby se editor textového bloku co nejvíc Wordu podobal.\n",
        "\n",
        "![alt text](https://drive.google.com/uc?id=1setiwCTvnFyFanbvEyJLCEZVtbf6SxMg)"
      ]
    },
    {
      "cell_type": "markdown",
      "metadata": {
        "id": "9TX9hqUHbkRV",
        "colab_type": "text"
      },
      "source": [
        "# Hotovo!\n",
        "Teď víme, jak se pracuje s Jupyter Notebookem. Pojďme zkusit jiný [notebook s Césarovou šifrou](https://drive.google.com/open?id=1XNmsmmGl8uOwbdeA1WYKdDlqKNoYmrst)."
      ]
    },
    {
      "cell_type": "markdown",
      "metadata": {
        "id": "fnMbdEAic0ER",
        "colab_type": "text"
      },
      "source": [
        ""
      ]
    }
  ]
}